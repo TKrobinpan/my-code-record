{
 "cells": [
  {
   "cell_type": "code",
   "execution_count": 2,
   "metadata": {},
   "outputs": [],
   "source": [
    "from sklearn.model_selection import train_test_split\n",
    "import numpy as np"
   ]
  },
  {
   "cell_type": "code",
   "execution_count": null,
   "metadata": {},
   "outputs": [],
   "source": [
    "x_train1,x_test1,y_train1,y_test1 = train_test_split(data1,data1,test_size=0.3,random_state=3)\n",
    "x_train2,x_test2,y_train2,y_test2 = train_test_split(data2,data2,test_size=0.4,random_state=3)\n",
    "x_train2,x_test2,y_train2,y_test2 = train_test_split(data2,data2,test_size=0.3,random_state=3)\n",
    "x_train3,x_test3,y_train3,y_test3 = train_test_split(data3,data3,test_size=0.3,random_state=3)\n",
    "x_train5,x_test5,y_train5,y_test5 = train_test_split(data5,data5,test_size=0.3,random_state=3)\n",
    "x_train4,x_test4,y_train4,y_test4 = train_test_split(data4,data4,test_size=0.3,random_state=3)\n",
    "if i ==8:\n",
    "    x_train6,x_test6,y_train6,y_test6 = train_test_split(data6,data6,test_size=0.3,random_state=3)\n",
    "    "
   ]
  },
  {
   "cell_type": "code",
   "execution_count": 6,
   "metadata": {},
   "outputs": [
    {
     "name": "stdout",
     "output_type": "stream",
     "text": [
      "data1样本量：10000，train1样本量：7000，\n",
      "data2样本量：12000，train2样本量：8400，\n",
      "data3样本量：15000，train3样本量：10500，\n",
      "data4样本量：17000，train4样本量：11900，\n",
      "data5样本量：20000，train5样本量：14000，\n",
      "data6样本量：25000，train6样本量：17500，\n",
      "train1-train2重复率：0.79，test1-test2重复率：0.52\n",
      "train1-train3重复率：0.77，test1-test3重复率：0.46\n",
      "train1-train4重复率：0.76，test1-test4重复率：0.45\n",
      "train1-train5重复率：0.74，test1-test5重复率：0.39\n",
      "train1-train6重复率：0.73，test1-test6重复率：0.38\n"
     ]
    }
   ],
   "source": [
    "data1 = list(range(10000))\n",
    "data2 = list(range(12000))\n",
    "\n",
    "\n",
    "x_train1,x_test1,y_train1,y_test1 = train_test_split(data1,data1,test_size=0.3,random_state=3)\n",
    "x_train2,x_test2,y_train2,y_test2 = train_test_split(data2,data2,test_size=0.4,random_state=3)\n",
    "x_train2,x_test2,y_train2,y_test2 = train_test_split(data2,data2,test_size=0.3,random_state=3)\n",
    "x_train3,x_test3,y_train3,y_test3 = train_test_split(data3,data3,test_size=0.3,random_state=3)\n",
    "x_train5,x_test5,y_train5,y_test5 = train_test_split(data5,data5,test_size=0.3,random_state=3)\n",
    "x_train4,x_test4,y_train4,y_test4 = train_test_split(data4,data4,test_size=0.3,random_state=3)\n",
    "if i ==10:\n",
    "    x_train6,x_test6,y_train6,y_test6 = train_test_split(data6,data6,test_size=0.3,random_state=3)\n",
    "print('data1样本量：%d，train1样本量：%d，'%(len(data1),len(x_train1)))\n",
    "print('data2样本量：%d，train2样本量：%d，'%(len(data2),len(x_train2)))\n",
    "print('data3样本量：%d，train3样本量：%d，'%(len(data3),len(x_train3)))\n",
    "print('data4样本量：%d，train4样本量：%d，'%(len(data4),len(x_train4)))\n",
    "print('data5样本量：%d，train5样本量：%d，'%(len(data5),len(x_train5)))\n",
    "print('data6样本量：%d，train6样本量：%d，'%(len(data6),len(x_train6)))\n",
    "\n",
    "print('train1-train2重复率：%.2f，test1-test2重复率：%.2f'% ((len(set(x_train1).intersection(set(x_train2)))/len(x_train1)),len(set(x_test1).intersection(set(x_test2)))/len(x_test1)))\n",
    "print('train1-train3重复率：%.2f，test1-test3重复率：%.2f'% (len(set(x_train1).intersection(set(x_train3)))/len(x_train1),len(set(x_test1).intersection(set(x_test3)))/len(x_test1)))\n",
    "# print('train2-train3重复率：%.2f%%，test2-test3重复率：%.2f'% (len(set(x_train2).intersection(set(x_train3)))/len(x_train2),len(set(x_test2).intersection(set(x_test3)))/len(x_test2)))\n",
    "print('train1-train4重复率：%.2f，test1-test4重复率：%.2f'% (len(set(x_train1).intersection(set(x_train4)))/len(x_train1),len(set(x_test4).intersection(set(x_test1)))/len(x_test1)))\n",
    "print('train1-train5重复率：%.2f，test1-test5重复率：%.2f'% (len(set(x_train1).intersection(set(x_train5)))/len(x_train1),len(set(x_test5).intersection(set(x_test1)))/len(x_test1)))\n",
    "print('train1-train6重复率：%.2f，test1-test6重复率：%.2f'% (len(set(x_train1).intersection(set(x_train6)))/len(x_train1),len(set(x_test6).intersection(set(x_test1)))/len(x_test1)))\n",
    "\n"
   ]
  },
  {
   "cell_type": "code",
   "execution_count": 9,
   "metadata": {},
   "outputs": [
    {
     "name": "stdout",
     "output_type": "stream",
     "text": [
      "统一采用data6数据集，总共25000个样本\n",
      "train_rs0-train_rs1重复率：0.70，test_rs0-test_rs1重复率：0.31\n",
      "train_rs0-train_rs2重复率：0.70，test_rs0-test_rs2重复率：0.30\n",
      "train_rs0-train_rs3重复率：0.70，test_rs0-test_rs3重复率：0.29\n",
      "train_rs0-train_rs4重复率：0.70，test_rs0-test_rs4重复率：0.29\n",
      "train_rs0-train_rs5重复率：0.70，test_rs0-test_rs5重复率：0.30\n"
     ]
    }
   ],
   "source": [
    "x_train_rs0,x_test_rs0,y_train_rs0,y_test_rs0 = train_test_split(data6,data6,test_size=0.3,random_state=0)\n",
    "x_train_rs1,x_test_rs1,y_train_rs1,y_test_rs1 = train_test_split(data6,data6,test_size=0.3,random_state=1)\n",
    "x_train_rs2,x_test_rs2,y_train_rs2,y_test_rs2 = train_test_split(data6,data6,test_size=0.3,random_state=2)\n",
    "x_train = y_train\n",
    "\n",
    "print('统一采用data6数据集，总共%d个样本'%len(data6))\n",
    "print('train_rs0-train_rs1重复率：%.2f，test_rs0-test_rs1重复率：%.2f'% ((len(set(x_train_rs0).intersection(set(x_train_rs1)))/len(x_train_rs0)),len(set(x_test_rs0).intersection(set(x_test_rs1)))/len(x_test_rs0)))\n",
    "print('train_rs0-train_rs2重复率：%.2f，test_rs0-test_rs2重复率：%.2f'% (len(set(x_train_rs0).intersection(set(x_train_rs2)))/len(x_train_rs0),len(set(x_test_rs0).intersection(set(x_test_rs2)))/len(x_test_rs0)))\n",
    "# print('train_rs1-train_rs2重复率：%.2f，test_rs1-test_rs2重复率：%.2f'% (len(set(x_train_rs1).intersection(set(x_train_rs2)))/len(x_train_rs1),len(set(x_test_rs2).intersection(set(x_test_rs1)))/len(x_test_rs1)))\n",
    "print('train_rs0-train_rs3重复率：%.2f，test_rs0-test_rs3重复率：%.2f'% ((len(set(x_train_rs0).intersection(set(x_train_rs3)))/len(x_train_rs0)),len(set(x_test_rs0).intersection(set(x_test_rs3)))/len(x_test_rs0)))\n",
    "print('train_rs0-train_rs4重复率：%.2f，test_rs0-test_rs4重复率：%.2f'% ((len(set(x_train_rs0).intersection(set(x_train_rs4)))/len(x_train_rs0)),len(set(x_test_rs0).intersection(set(x_test_rs4)))/len(x_test_rs0)))\n",
    "print('train_rs0-train_rs5重复率：%.2f，test_rs0-test_rs5重复率：%.2f'% ((len(set(x_train_rs0).intersection(set(x_train_rs5)))/len(x_train_rs0)),len(set(x_test_rs0).intersection(set(x_test_rs5)))/len(x_test_rs0)))\n",
    "\n",
    "\n"
   ]
  },
  {
   "cell_type": "code",
   "execution_count": 9,
   "metadata": {},
   "outputs": [
    {
     "name": "stdout",
     "output_type": "stream",
     "text": [
      "52099 90996 45824\n",
      "188919\n"
     ]
    }
   ],
   "source": [
    "import pandas as pd\n",
    "df1 = topd.to_excel('C:/Users/tkrob/Desktop/mse_compare（高血压，重筛特征）.xlsx',sheet_name='年龄分段0',index_col=0)\n",
    "df2 = pd.to_excel('C:/Users/tkrob/Desktop/mse_compare（高血压，重筛特征）.xlsx',sheet_name='年龄分段2',index_col=0)\n",
    "df3 to= pd.read_excel('C:/Users/tkrob/Desktop/mse_compare（高血压，重筛特征）.xlsx',sheet_name='年龄分段3',index_col=0)\n",
    "df4 = pd.read_excel('C:/Users/tkrob/Desktop/mse_compare（高血压，重筛特征全年龄）.xlsx',sheet_name='全年龄',index_col=0)\n",
    "print(len(df1),len(df2),len(df3))\n",
    "df=pd.concat([df1,df2,df3],axis=0)\n",
    "print(len(df))"
   ]
  },
  {
   "cell_type": "code",
   "execution_count": 25,
   "metadata": {},
   "outputs": [
    {
     "name": "stdout",
     "output_type": "stream",
     "text": [
      "150849\n"
     ]
    }
   ],
   "source": [
    "age_list = df.index.to_numpy()\n",
    "all_list = df4.index.to_numpy()\n",
    "df = df.loc[~df.index.duplicated(keep='first')]\n",
    "print(len(df))"
   ]
  },
  {
   "cell_type": "code",
   "execution_count": 26,
   "metadata": {},
   "outputs": [
    {
     "name": "stdout",
     "output_type": "stream",
     "text": [
      "(44983, 3) (44983, 3)\n",
      "44983\n"
     ]
    }
   ],
   "source": [
    "intersect_list = list(set(age_list).intersection(set(all_list)))\n",
    "df5 = df.loc[intersect_list,:]\n",
    "df6 = df4.loc[intersect_list,:]\n",
    "print(df5.shape,df6.shape)\n",
    "print(len(intersect_list))"
   ]
  },
  {
   "cell_type": "code",
   "execution_count": 29,
   "metadata": {},
   "outputs": [],
   "source": [
    "write = pd.ExcelWriter('C:/Users/tkrob/Desktop/MSE_campare.xlsx')\n",
    "df5.to_excel(write,sheet_name='分年龄段')\n",
    "df6.to_excel(write,sheet_name='全年龄')\n",
    "write.save()\n",
    "write.close()"
   ]
  },
  {
   "cell_type": "code",
   "execution_count": null,
   "metadata": {},
   "outputs": [],
   "source": []
  }
 ],
 "metadata": {
  "kernelspec": {
   "display_name": "Python 3",
   "language": "python",
   "name": "python3"
  },
  "language_info": {
   "codemirror_mode": {
    "name": "ipython",
    "version": 3
   },
   "file_extension": ".py",
   "mimetype": "text/x-python",
   "name": "python",
   "nbconvert_exporter": "python",
   "pygments_lexer": "ipython3",
   "version": "3.8.3"
  },
  "varInspector": {
   "cols": {
    "lenName": 16,
    "lenType": 16,
    "lenVar": 40
   },
   "kernels_config": {
    "python": {
     "delete_cmd_postfix": "",
     "delete_cmd_prefix": "del ",
     "library": "var_list.py",
     "varRefreshCmd": "print(var_dic_list())"
    },
    "r": {
     "delete_cmd_postfix": ") ",
     "delete_cmd_prefix": "rm(",
     "library": "var_list.r",
     "varRefreshCmd": "cat(var_dic_list()) "
    }
   },
   "types_to_exclude": [
    "module",
    "function",
    "builtin_function_or_method",
    "instance",
    "_Feature"
   ],
   "window_display": false
  }
 },
 "nbformat": 4,
 "nbformat_minor": 4
}
